{
 "cells": [
  {
   "cell_type": "markdown",
   "source": [
    "Question 1"
   ],
   "metadata": {
    "collapsed": false
   },
   "id": "af52ee7f8fa19537"
  },
  {
   "cell_type": "code",
   "execution_count": 412,
   "outputs": [],
   "source": [
    "import numpy as np"
   ],
   "metadata": {
    "collapsed": false,
    "ExecuteTime": {
     "end_time": "2023-10-24T00:39:38.750350Z",
     "start_time": "2023-10-24T00:39:38.695506Z"
    }
   },
   "id": "9ec6df0c1af9dad6"
  },
  {
   "cell_type": "code",
   "execution_count": 413,
   "outputs": [],
   "source": [
    "def generateData(d, N, noise=0.1):\n",
    "    np.random.seed(12345)\n",
    "    X = np.concatenate([np.ones([N, 1]), np.random.randn(N, d)], axis=1)\n",
    "    lambdaTrue = -1 + 2 * np.tan(np.random.randn(len(X[0])))\n",
    "    Y = 1 * ((X @ lambdaTrue + noise * np.random.randn(N)) > 0)\n",
    "    D = X, Y\n",
    "    return D"
   ],
   "metadata": {
    "collapsed": false,
    "ExecuteTime": {
     "end_time": "2023-10-24T00:39:38.750562Z",
     "start_time": "2023-10-24T00:39:38.703253Z"
    }
   },
   "id": "5bb4c3740fc6c4d9"
  },
  {
   "cell_type": "code",
   "execution_count": 414,
   "outputs": [],
   "source": [
    "def split(D, train_size):\n",
    "    x, y = D\n",
    "    x_trainning = []\n",
    "    x_testing = []\n",
    "    y_traning = []\n",
    "    y_testing = []\n",
    "    for i in range(0, train_size):\n",
    "        x_trainning.append(x[i])\n",
    "        y_traning.append(y[i])\n",
    "    for i in range(train_size, len(y)):\n",
    "        x_testing.append(x[i])\n",
    "        y_testing.append(y[i])\n",
    "    return x_trainning, x_testing, y_traning, y_testing"
   ],
   "metadata": {
    "collapsed": false,
    "ExecuteTime": {
     "end_time": "2023-10-24T00:39:38.750605Z",
     "start_time": "2023-10-24T00:39:38.705515Z"
    }
   },
   "id": "935e0ca9b66578df"
  },
  {
   "cell_type": "code",
   "execution_count": 415,
   "outputs": [],
   "source": [
    "def model(x, par):\n",
    "    z = x @ par\n",
    "    # return 1 / (np.exp(-z)+1)\n",
    "    return np.power(1 / (1 + np.power(np.e, -z)), -1)"
   ],
   "metadata": {
    "collapsed": false,
    "ExecuteTime": {
     "end_time": "2023-10-24T00:39:38.787729Z",
     "start_time": "2023-10-24T00:39:38.710430Z"
    }
   },
   "id": "97c12095ad467be9"
  },
  {
   "cell_type": "code",
   "execution_count": 416,
   "outputs": [],
   "source": [
    "def dModel(x, par):\n",
    "    f = np.power((1 + np.power(np.e, (np.dot(x, par)))), -1)\n",
    "    gradient = np.dot(f * (1 - f), x)\n",
    "    return gradient"
   ],
   "metadata": {
    "collapsed": false,
    "ExecuteTime": {
     "end_time": "2023-10-24T00:39:38.788556Z",
     "start_time": "2023-10-24T00:39:38.715544Z"
    }
   },
   "id": "23a58cbb414dd71b"
  },
  {
   "cell_type": "code",
   "execution_count": 417,
   "outputs": [],
   "source": [
    "def objective(par, data):\n",
    "    ell = 0\n",
    "    X, Y = data\n",
    "    for n in range(0, len(X)):\n",
    "        x, y = X[n], Y[n]\n",
    "        # f = np.power((np.dot(par,x)),np.e)\n",
    "        f = model(X, par)\n",
    "        if y == 1:\n",
    "            f = (f)\n",
    "        else:\n",
    "            deltat = (1 - f)\n",
    "        s = -(np.log(f))\n",
    "        ell = ell + s\n",
    "    return ell"
   ],
   "metadata": {
    "collapsed": false,
    "ExecuteTime": {
     "end_time": "2023-10-24T00:39:38.790565Z",
     "start_time": "2023-10-24T00:39:38.717907Z"
    }
   },
   "id": "f1fe5e5e4ff2b356"
  },
  {
   "cell_type": "code",
   "execution_count": 418,
   "outputs": [],
   "source": [
    "def gradient(par, data):\n",
    "    grad = np.zeros(len(par))\n",
    "    X, Y = data\n",
    "    for n in range(0, len(X)):\n",
    "        f = model(X[n], par)\n",
    "        x, y = X[n], Y[n]\n",
    "        # deltaf = (dModel(X,par))\n",
    "        s = -(y - f) * (dModel(x, par)) / (y * f + (1 - y) * (1 - f))\n",
    "        # s = -(y-f)/(y*f+(1-y)*(1-f))\n",
    "        grad = grad + s\n",
    "    return grad"
   ],
   "metadata": {
    "collapsed": false,
    "ExecuteTime": {
     "end_time": "2023-10-24T00:39:38.790677Z",
     "start_time": "2023-10-24T00:39:38.722377Z"
    }
   },
   "id": "756f21094df92d37"
  },
  {
   "cell_type": "code",
   "execution_count": 419,
   "outputs": [],
   "source": [
    "def train(par0, eta, T, data):\n",
    "    par = par0\n",
    "    obj = []\n",
    "    for t in range(0, T):\n",
    "        ell = objective(par, data)\n",
    "        obj.append(ell)\n",
    "        grad = gradient(par, data)\n",
    "        par = par - grad * eta\n",
    "    return par, obj"
   ],
   "metadata": {
    "collapsed": false,
    "ExecuteTime": {
     "end_time": "2023-10-24T00:39:38.790712Z",
     "start_time": "2023-10-24T00:39:38.725600Z"
    }
   },
   "id": "6ecf597ae837d2a0"
  },
  {
   "cell_type": "code",
   "execution_count": 420,
   "outputs": [],
   "source": [
    "lambda1 = np.transpose(np.full(11, 0.01))\n",
    "d = 10\n",
    "N = 100\n",
    "D = generateData(d, N)\n",
    "x_trainning, x_testing, y_traning, y_testing = split(D, 50)\n",
    "eta = 0.01\n",
    "epoch = []\n",
    "itterations = 5\n",
    "# tryInit = [np.random.randn(len(X[0]))for m in range(5)]\n",
    "for i in range(0, itterations):\n",
    "    par, values = train(np.random.normal(0, 1, len(x_trainning[0])), eta, itterations, (x_trainning, y_traning))\n",
    "    epoch.append((par, values))"
   ],
   "metadata": {
    "collapsed": false,
    "ExecuteTime": {
     "end_time": "2023-10-24T00:39:38.791856Z",
     "start_time": "2023-10-24T00:39:38.729830Z"
    }
   },
   "id": "c8fd55c591b6b18e"
  },
  {
   "cell_type": "code",
   "execution_count": 421,
   "outputs": [],
   "source": [
    "def ER(par, data):\n",
    "    ER = 0\n",
    "    X, Y = data\n",
    "    for n in range(0, len(D) - 1):\n",
    "        x, y = X[n], Y[n]\n",
    "        yHat = model(x, par[n])\n",
    "        s = 1 * (y != yHat)\n",
    "        ER = ER + s\n",
    "    return ER / len(data)"
   ],
   "metadata": {
    "collapsed": false,
    "ExecuteTime": {
     "end_time": "2023-10-24T00:39:38.791918Z",
     "start_time": "2023-10-24T00:39:38.765855Z"
    }
   },
   "id": "3db08fd76a59979b"
  },
  {
   "cell_type": "code",
   "execution_count": 422,
   "outputs": [
    {
     "name": "stdout",
     "output_type": "stream",
     "text": [
      "[0.5, 0.5, 0.5, 0.5, 0.5]\n"
     ]
    }
   ],
   "source": [
    "ERs = []\n",
    "for i in epoch:\n",
    "    ERs.append(ER(i, (x_testing, y_testing)))\n",
    "print(ERs)"
   ],
   "metadata": {
    "collapsed": false,
    "ExecuteTime": {
     "end_time": "2023-10-24T00:39:38.792010Z",
     "start_time": "2023-10-24T00:39:38.767964Z"
    }
   },
   "id": "1a01d1cae1e59005"
  },
  {
   "cell_type": "markdown",
   "source": [
    "Question 2"
   ],
   "metadata": {
    "collapsed": false
   },
   "id": "93f21c0f519752de"
  },
  {
   "cell_type": "code",
   "execution_count": 423,
   "outputs": [],
   "source": [
    "import pandas as pd"
   ],
   "metadata": {
    "collapsed": false,
    "ExecuteTime": {
     "end_time": "2023-10-24T00:39:38.792041Z",
     "start_time": "2023-10-24T00:39:38.770486Z"
    }
   },
   "id": "ffbb1991a66bba6b"
  },
  {
   "cell_type": "code",
   "execution_count": 424,
   "outputs": [
    {
     "name": "stdout",
     "output_type": "stream",
     "text": [
      "[[ 18.    8.  307.  ...  12.   70.    1. ]\n",
      " [ 15.    8.  350.  ...  11.5  70.    1. ]\n",
      " [ 18.    8.  318.  ...  11.   70.    1. ]\n",
      " ...\n",
      " [ 32.    4.  135.  ...  11.6  82.    1. ]\n",
      " [ 28.    4.  120.  ...  18.6  82.    1. ]\n",
      " [ 31.    4.  119.  ...  19.4  82.    1. ]]\n"
     ]
    }
   ],
   "source": [
    "data = pd.read_csv(\"CarsDataSetForCW1.csv\",sep =\",\")\n",
    "Z = data[['mpg', 'cylinders', 'displacement', 'horsepower', 'weight', 'acceleration', 'year', 'origin']].to_numpy()\n",
    "Y = 1 * (Z[:, 0] >= np.mean(Z[:, 0]))\n",
    "X, Y = Z[:, 1 :], Y\n",
    "print(Z)"
   ],
   "metadata": {
    "collapsed": false,
    "ExecuteTime": {
     "end_time": "2023-10-24T00:39:38.806935Z",
     "start_time": "2023-10-24T00:39:38.783180Z"
    }
   },
   "id": "bef16f99ec4cf919"
  },
  {
   "cell_type": "code",
   "execution_count": 425,
   "outputs": [],
   "source": [
    "D_train = (X[:len(data)//2], Y[:len(data)//2])\n",
    "D_test = (X[len(data)//2:], Y[len(data)//2:])"
   ],
   "metadata": {
    "collapsed": false,
    "ExecuteTime": {
     "end_time": "2023-10-24T00:39:38.807394Z",
     "start_time": "2023-10-24T00:39:38.797875Z"
    }
   },
   "id": "91475f543f42d95b"
  },
  {
   "cell_type": "code",
   "execution_count": 427,
   "outputs": [
    {
     "name": "stdout",
     "output_type": "stream",
     "text": [
      "(array([[-0.44347148, -0.18249136, -0.33698461, ..., -0.43998011,\n",
      "        -0.3893552 , -0.44958138],\n",
      "       [-0.44347148, -0.1449591 , -0.3064351 , ..., -0.44041653,\n",
      "        -0.3893552 , -0.44958138],\n",
      "       [-0.44347148, -0.17289009, -0.31952775, ..., -0.44085295,\n",
      "        -0.3893552 , -0.44958138],\n",
      "       ...,\n",
      "       [-0.44696285, -0.37626255, -0.40506638, ..., -0.43107711,\n",
      "        -0.38411814, -0.44958138],\n",
      "       [-0.44696285, -0.36491559, -0.39808363, ..., -0.43116439,\n",
      "        -0.38411814, -0.44958138],\n",
      "       [-0.44696285, -0.37189834, -0.3893552 , ..., -0.43805985,\n",
      "        -0.38411814, -0.44870854]]), array([0, 0, 0, 0, 0, 0, 0, 0, 0, 0, 0, 0, 0, 0, 1, 0, 0, 0, 1, 1, 1, 1,\n",
      "       1, 1, 0, 0, 0, 0, 0, 1, 1, 1, 1, 0, 0, 0, 0, 0, 0, 0, 0, 0, 0, 0,\n",
      "       0, 0, 0, 0, 0, 0, 1, 1, 1, 1, 1, 1, 1, 1, 1, 0, 0, 0, 0, 0, 0, 0,\n",
      "       0, 0, 0, 0, 0, 0, 0, 0, 0, 0, 0, 0, 0, 1, 0, 1, 0, 1, 1, 0, 0, 0,\n",
      "       0, 0, 0, 0, 0, 0, 0, 0, 0, 0, 0, 0, 0, 0, 1, 0, 0, 0, 0, 0, 0, 0,\n",
      "       0, 0, 0, 0, 1, 0, 0, 1, 1, 0, 0, 0, 1, 0, 0, 0, 0, 0, 0, 1, 1, 1,\n",
      "       1, 0, 0, 0, 0, 0, 0, 0, 0, 1, 1, 1, 1, 1, 1, 1, 1, 1, 1, 1, 0, 0,\n",
      "       0, 0, 0, 0, 0, 0, 0, 0, 0, 0, 0, 0, 0, 1, 0, 0, 0, 1, 1, 1, 0, 1,\n",
      "       0, 0, 0, 0, 1, 1, 1, 1, 1, 1, 1, 0, 0, 0, 0, 0, 0, 1, 0, 1, 1, 1]))\n",
      "(array([[-0.449262  , -0.36082994, -0.39945544, ..., -0.43564143,\n",
      "        -0.37607685, -0.45027846],\n",
      "       [-0.44722908, -0.22462425, -0.3516818 , ..., -0.43533649,\n",
      "        -0.37607685, -0.45231138],\n",
      "       [-0.44722908, -0.19921274, -0.37404393, ..., -0.43198217,\n",
      "        -0.37607685, -0.45231138],\n",
      "       ...,\n",
      "       [-0.449262  , -0.31610569, -0.36794517, ..., -0.4415369 ,\n",
      "        -0.36997809, -0.45231138],\n",
      "       [-0.449262  , -0.33135259, -0.37302747, ..., -0.43442168,\n",
      "        -0.36997809, -0.45231138],\n",
      "       [-0.449262  , -0.33236905, -0.36997809, ..., -0.43360851,\n",
      "        -0.36997809, -0.45231138]]), array([1, 0, 0, 0, 0, 1, 1, 1, 1, 0, 0, 0, 0, 0, 0, 0, 0, 0, 1, 1, 1, 1,\n",
      "       1, 0, 0, 0, 0, 0, 0, 0, 0, 0, 0, 0, 0, 1, 1, 1, 1, 1, 1, 1, 1, 0,\n",
      "       0, 0, 1, 1, 1, 1, 1, 0, 0, 0, 0, 0, 0, 1, 0, 0, 0, 0, 0, 0, 0, 0,\n",
      "       0, 0, 1, 1, 1, 1, 0, 0, 1, 1, 0, 0, 0, 0, 1, 1, 0, 0, 0, 0, 0, 0,\n",
      "       0, 0, 0, 0, 0, 0, 0, 1, 1, 1, 1, 1, 0, 1, 1, 1, 1, 1, 1, 1, 1, 1,\n",
      "       1, 1, 1, 1, 1, 1, 1, 1, 0, 1, 1, 1, 1, 1, 1, 1, 1, 1, 1, 1, 1, 1,\n",
      "       1, 1, 1, 1, 1, 1, 1, 1, 1, 1, 1, 0, 1, 1, 1, 1, 1, 1, 1, 1, 1, 1,\n",
      "       1, 1, 1, 1, 1, 1, 1, 1, 1, 1, 1, 0, 1, 0, 0, 1, 1, 1, 1, 1, 1, 1,\n",
      "       1, 1, 1, 1, 1, 1, 1, 1, 1, 1, 1, 1, 1, 1, 0, 1, 1, 1, 1, 1, 1, 1,\n",
      "       1]))\n"
     ]
    },
    {
     "ename": "ValueError",
     "evalue": "matmul: Input operand 1 has a mismatch in its core dimension 0, with gufunc signature (n?,k),(k,m?)->(n?,m?) (size 198 is different from 7)",
     "output_type": "error",
     "traceback": [
      "\u001B[0;31m---------------------------------------------------------------------------\u001B[0m",
      "\u001B[0;31mValueError\u001B[0m                                Traceback (most recent call last)",
      "Cell \u001B[0;32mIn[427], line 21\u001B[0m\n\u001B[1;32m     19\u001B[0m \u001B[38;5;66;03m# tryInit = [np.random.randn(len(X[0]))for m in range(5)]\u001B[39;00m\n\u001B[1;32m     20\u001B[0m \u001B[38;5;28;01mfor\u001B[39;00m i \u001B[38;5;129;01min\u001B[39;00m \u001B[38;5;28mrange\u001B[39m(\u001B[38;5;241m0\u001B[39m, itterations):\n\u001B[0;32m---> 21\u001B[0m     par, values \u001B[38;5;241m=\u001B[39m train(np\u001B[38;5;241m.\u001B[39mrandom\u001B[38;5;241m.\u001B[39mnormal(\u001B[38;5;241m0\u001B[39m, \u001B[38;5;241m1\u001B[39m, \u001B[38;5;28mlen\u001B[39m(x_trainning)), eta, itterations, (x_trainning, y_traning))\n\u001B[1;32m     22\u001B[0m     epoch\u001B[38;5;241m.\u001B[39mappend((par, values))\n\u001B[1;32m     23\u001B[0m ERs \u001B[38;5;241m=\u001B[39m []\n",
      "Cell \u001B[0;32mIn[419], line 5\u001B[0m, in \u001B[0;36mtrain\u001B[0;34m(par0, eta, T, data)\u001B[0m\n\u001B[1;32m      3\u001B[0m obj \u001B[38;5;241m=\u001B[39m []\n\u001B[1;32m      4\u001B[0m \u001B[38;5;28;01mfor\u001B[39;00m t \u001B[38;5;129;01min\u001B[39;00m \u001B[38;5;28mrange\u001B[39m(\u001B[38;5;241m0\u001B[39m, T):\n\u001B[0;32m----> 5\u001B[0m     ell \u001B[38;5;241m=\u001B[39m objective(par, data)\n\u001B[1;32m      6\u001B[0m     obj\u001B[38;5;241m.\u001B[39mappend(ell)\n\u001B[1;32m      7\u001B[0m     grad \u001B[38;5;241m=\u001B[39m gradient(par, data)\n",
      "Cell \u001B[0;32mIn[417], line 7\u001B[0m, in \u001B[0;36mobjective\u001B[0;34m(par, data)\u001B[0m\n\u001B[1;32m      5\u001B[0m x, y \u001B[38;5;241m=\u001B[39m X[n], Y[n]\n\u001B[1;32m      6\u001B[0m \u001B[38;5;66;03m# f = np.power((np.dot(par,x)),np.e)\u001B[39;00m\n\u001B[0;32m----> 7\u001B[0m f \u001B[38;5;241m=\u001B[39m model(X, par)\n\u001B[1;32m      8\u001B[0m \u001B[38;5;28;01mif\u001B[39;00m y \u001B[38;5;241m==\u001B[39m \u001B[38;5;241m1\u001B[39m:\n\u001B[1;32m      9\u001B[0m     f \u001B[38;5;241m=\u001B[39m (f)\n",
      "Cell \u001B[0;32mIn[415], line 2\u001B[0m, in \u001B[0;36mmodel\u001B[0;34m(x, par)\u001B[0m\n\u001B[1;32m      1\u001B[0m \u001B[38;5;28;01mdef\u001B[39;00m \u001B[38;5;21mmodel\u001B[39m(x, par):\n\u001B[0;32m----> 2\u001B[0m     z \u001B[38;5;241m=\u001B[39m x \u001B[38;5;241m@\u001B[39m par\n\u001B[1;32m      3\u001B[0m     \u001B[38;5;66;03m# return 1 / (np.exp(-z)+1)\u001B[39;00m\n\u001B[1;32m      4\u001B[0m     \u001B[38;5;28;01mreturn\u001B[39;00m np\u001B[38;5;241m.\u001B[39mpower(\u001B[38;5;241m1\u001B[39m \u001B[38;5;241m/\u001B[39m (\u001B[38;5;241m1\u001B[39m \u001B[38;5;241m+\u001B[39m np\u001B[38;5;241m.\u001B[39mpower(np\u001B[38;5;241m.\u001B[39me, \u001B[38;5;241m-\u001B[39mz)), \u001B[38;5;241m-\u001B[39m\u001B[38;5;241m1\u001B[39m)\n",
      "\u001B[0;31mValueError\u001B[0m: matmul: Input operand 1 has a mismatch in its core dimension 0, with gufunc signature (n?,k),(k,m?)->(n?,m?) (size 198 is different from 7)"
     ]
    }
   ],
   "source": [
    "D_train_normalised = ((D_train[0] - np.average(D_train[0])) / np.std(D_train[0]), D_train[1])\n",
    "print(D_train_normalised)\n",
    "D_test_normalised = ((D_test[0] - np.average(D_test[0])) / np.std(D_test[0]), D_test[1])\n",
    "print(D_test_normalised)\n",
    "lambda1 = np.transpose(np.full(198, 0.01))\n",
    "d = 10\n",
    "N = 100\n",
    "D = generateData(d, N)\n",
    "\n",
    "\n",
    "x_testing=D_test_normalised[0]\n",
    "y_testing=D_test_normalised[1]\n",
    "x_trainning=D_train_normalised[0]\n",
    "y_traning=D_train_normalised[1]\n",
    "\n",
    "eta = 0.01\n",
    "epoch = []\n",
    "itterations = 5\n",
    "# tryInit = [np.random.randn(len(X[0]))for m in range(5)]\n",
    "for i in range(0, itterations):\n",
    "    par, values = train(np.random.normal(0, 1, len(x_trainning)), eta, itterations, (x_trainning, y_traning))\n",
    "    epoch.append((par, values))\n",
    "ERs = []\n",
    "for i in epoch:\n",
    "    ERs.append(ER(i, (x_testing, y_testing)))\n",
    "print(ERs)"
   ],
   "metadata": {
    "collapsed": false,
    "ExecuteTime": {
     "end_time": "2023-10-24T00:40:00.864040Z",
     "start_time": "2023-10-24T00:40:00.823270Z"
    }
   },
   "id": "a848b29314c69dfe"
  },
  {
   "cell_type": "code",
   "execution_count": null,
   "outputs": [],
   "source": [],
   "metadata": {
    "collapsed": false,
    "ExecuteTime": {
     "start_time": "2023-10-24T00:39:38.822231Z"
    }
   },
   "id": "f5569250771567a3"
  }
 ],
 "metadata": {
  "kernelspec": {
   "display_name": "Python 3",
   "language": "python",
   "name": "python3"
  },
  "language_info": {
   "codemirror_mode": {
    "name": "ipython",
    "version": 2
   },
   "file_extension": ".py",
   "mimetype": "text/x-python",
   "name": "python",
   "nbconvert_exporter": "python",
   "pygments_lexer": "ipython2",
   "version": "2.7.6"
  }
 },
 "nbformat": 4,
 "nbformat_minor": 5
}
