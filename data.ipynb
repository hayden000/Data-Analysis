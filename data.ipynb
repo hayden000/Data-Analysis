{
 "cells": [
  {
   "cell_type": "code",
   "execution_count": 171,
   "id": "initial_id",
   "metadata": {
    "collapsed": true,
    "ExecuteTime": {
     "end_time": "2023-10-23T20:01:25.387024Z",
     "start_time": "2023-10-23T20:01:25.369919Z"
    }
   },
   "outputs": [],
   "source": [
    "import numpy as np"
   ]
  },
  {
   "cell_type": "code",
   "execution_count": 172,
   "outputs": [],
   "source": [
    "def generateData(d, N, noise=0.1):\n",
    "    np.random.seed(12345)\n",
    "    X = np.concatenate([np.ones([N, 1]), np.random.randn(N, d)], axis=1)\n",
    "    lambdaTrue = -1 + 2 * np.tan(np.random.randn(len(X[0])))\n",
    "    Y = 1 * ((X @ lambdaTrue + noise * np.random.randn(N)) > 0)\n",
    "    D = X, Y\n",
    "    return D"
   ],
   "metadata": {
    "collapsed": false,
    "ExecuteTime": {
     "end_time": "2023-10-23T20:01:25.387502Z",
     "start_time": "2023-10-23T20:01:25.372637Z"
    }
   },
   "id": "5bb4c3740fc6c4d9"
  },
  {
   "cell_type": "code",
   "execution_count": 173,
   "outputs": [],
   "source": [
    "def split(D, train_size):\n",
    "    x, y = D\n",
    "    x_trainning = []\n",
    "    x_testing = []\n",
    "    y_traning = []\n",
    "    y_testing = []\n",
    "    for i in range(0, train_size):\n",
    "        x_trainning.append(x[i])\n",
    "        y_traning.append(y[i])\n",
    "    for i in range(train_size, len(y)):\n",
    "        x_testing.append(x[i])\n",
    "        y_testing.append(y[i])\n",
    "    return x_trainning, x_testing, y_traning, y_testing"
   ],
   "metadata": {
    "collapsed": false,
    "ExecuteTime": {
     "end_time": "2023-10-23T20:01:25.387754Z",
     "start_time": "2023-10-23T20:01:25.379021Z"
    }
   },
   "id": "935e0ca9b66578df"
  },
  {
   "cell_type": "code",
   "execution_count": 174,
   "outputs": [],
   "source": [
    "def model(x, par):\n",
    "    z = x @ par\n",
    "    # return 1 / (np.exp(-z)+1)\n",
    "    return np.power(1 / (1 + np.power(np.e, -z)), -1)"
   ],
   "metadata": {
    "collapsed": false,
    "ExecuteTime": {
     "end_time": "2023-10-23T20:01:25.387859Z",
     "start_time": "2023-10-23T20:01:25.382330Z"
    }
   },
   "id": "97c12095ad467be9"
  },
  {
   "cell_type": "code",
   "execution_count": 175,
   "outputs": [],
   "source": [
    "def dModel(x, par):\n",
    "    f = np.power((1 + np.power(np.e, (np.dot(x, par)))), -1)\n",
    "    gradient = np.dot(f * (1 - f), x)\n",
    "    return gradient"
   ],
   "metadata": {
    "collapsed": false,
    "ExecuteTime": {
     "end_time": "2023-10-23T20:01:25.390590Z",
     "start_time": "2023-10-23T20:01:25.386859Z"
    }
   },
   "id": "23a58cbb414dd71b"
  },
  {
   "cell_type": "code",
   "execution_count": 176,
   "outputs": [],
   "source": [
    "def objective(par, data):\n",
    "    ell = 0\n",
    "    X, Y = data\n",
    "    for n in range(0, len(X)):\n",
    "        x, y = X[n], Y[n]\n",
    "        # f = np.power((np.dot(par,x)),np.e)\n",
    "        f = model(X, par)\n",
    "        if y == 1:\n",
    "            f = (f)\n",
    "        else:\n",
    "            deltat = (1 - f)\n",
    "        s = -(np.log(f))\n",
    "        ell = ell + s\n",
    "    return ell"
   ],
   "metadata": {
    "collapsed": false,
    "ExecuteTime": {
     "end_time": "2023-10-23T20:01:25.399299Z",
     "start_time": "2023-10-23T20:01:25.390414Z"
    }
   },
   "id": "f1fe5e5e4ff2b356"
  },
  {
   "cell_type": "code",
   "execution_count": 177,
   "outputs": [],
   "source": [
    "def gradient(par, data):\n",
    "    grad = np.zeros(len(par))\n",
    "    X, Y = data\n",
    "    for n in range(0, len(X)):\n",
    "        f = model(X[n], par)\n",
    "        x, y = X[n], Y[n]\n",
    "        # deltaf = (dModel(X,par))\n",
    "        s = -(y - f) * (dModel(x, par)) / (y * f + (1 - y) * (1 - f))  #not sure if deltaf should be here\n",
    "        # s = -(y-f)/(y*f+(1-y)*(1-f))\n",
    "        grad = grad + s\n",
    "    return grad"
   ],
   "metadata": {
    "collapsed": false,
    "ExecuteTime": {
     "end_time": "2023-10-23T20:01:25.399517Z",
     "start_time": "2023-10-23T20:01:25.393838Z"
    }
   },
   "id": "756f21094df92d37"
  },
  {
   "cell_type": "code",
   "execution_count": 178,
   "outputs": [],
   "source": [
    "def train(par0, eta, T, data):\n",
    "    par = par0\n",
    "    obj = []\n",
    "    for t in range(0, T):\n",
    "        ell = objective(par, data)\n",
    "        obj.append(ell)\n",
    "        grad = gradient(par, data)\n",
    "        par = par - grad * eta\n",
    "    return par, obj"
   ],
   "metadata": {
    "collapsed": false,
    "ExecuteTime": {
     "end_time": "2023-10-23T20:01:25.399655Z",
     "start_time": "2023-10-23T20:01:25.395653Z"
    }
   },
   "id": "6ecf597ae837d2a0"
  },
  {
   "cell_type": "code",
   "execution_count": 179,
   "outputs": [],
   "source": [
    "lambda1 = np.transpose(np.full(11, 0.01))\n",
    "d = 10\n",
    "N = 100\n",
    "D = generateData(d, N)\n",
    "x_trainning, x_testing, y_traning, y_testing = split(D, 50)\n",
    "eta = 0.01\n",
    "epoch = []\n",
    "itterations = 5\n",
    "for i in range(0, itterations):\n",
    "    par, values = train(np.random.normal(0, 1, len(x_trainning[0])), eta, itterations, (x_trainning, y_traning))\n",
    "    epoch.append((par, values))"
   ],
   "metadata": {
    "collapsed": false,
    "ExecuteTime": {
     "end_time": "2023-10-23T20:01:25.434890Z",
     "start_time": "2023-10-23T20:01:25.402556Z"
    }
   },
   "id": "c8fd55c591b6b18e"
  },
  {
   "cell_type": "code",
   "execution_count": 180,
   "outputs": [],
   "source": [
    "def ER(par, data):\n",
    "    ER = 0\n",
    "    X, Y = data\n",
    "    for n in range(0, len(D) - 1):\n",
    "        x, y = X[n], Y[n]\n",
    "        yHat = model(x, par[n])\n",
    "        s = 1 * (y != yHat)\n",
    "        ER = ER + s\n",
    "    return ER / len(data)"
   ],
   "metadata": {
    "collapsed": false,
    "ExecuteTime": {
     "end_time": "2023-10-23T20:01:25.439085Z",
     "start_time": "2023-10-23T20:01:25.436372Z"
    }
   },
   "id": "3db08fd76a59979b"
  },
  {
   "cell_type": "code",
   "execution_count": 181,
   "outputs": [
    {
     "name": "stdout",
     "output_type": "stream",
     "text": [
      "[0.5, 0.5, 0.5, 0.5, 0.5]\n"
     ]
    }
   ],
   "source": [
    "ERs = []\n",
    "for i in epoch:\n",
    "    ERs.append(ER(i, (x_testing, y_testing)))\n",
    "print(ERs)"
   ],
   "metadata": {
    "collapsed": false,
    "ExecuteTime": {
     "end_time": "2023-10-23T20:01:25.443561Z",
     "start_time": "2023-10-23T20:01:25.439995Z"
    }
   },
   "id": "1a01d1cae1e59005"
  }
 ],
 "metadata": {
  "kernelspec": {
   "display_name": "Python 3",
   "language": "python",
   "name": "python3"
  },
  "language_info": {
   "codemirror_mode": {
    "name": "ipython",
    "version": 2
   },
   "file_extension": ".py",
   "mimetype": "text/x-python",
   "name": "python",
   "nbconvert_exporter": "python",
   "pygments_lexer": "ipython2",
   "version": "2.7.6"
  }
 },
 "nbformat": 4,
 "nbformat_minor": 5
}
