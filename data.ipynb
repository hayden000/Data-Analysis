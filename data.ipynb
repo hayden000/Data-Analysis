{
 "cells": [
  {
   "cell_type": "markdown",
   "source": [
    "Question 1"
   ],
   "metadata": {
    "collapsed": false
   },
   "id": "af52ee7f8fa19537"
  },
  {
   "cell_type": "code",
   "execution_count": 1,
   "outputs": [],
   "source": [
    "import matplotlib.pyplot as plt\n",
    "import numpy as np"
   ],
   "metadata": {
    "collapsed": false,
    "ExecuteTime": {
     "end_time": "2023-11-01T23:20:37.955683Z",
     "start_time": "2023-11-01T23:20:37.653948Z"
    }
   },
   "id": "9ec6df0c1af9dad6"
  },
  {
   "cell_type": "code",
   "execution_count": 2,
   "outputs": [],
   "source": [
    "def generateData(d, N, noise=0.1):\n",
    "    np.random.seed(12345)\n",
    "    X = np.concatenate([np.ones([N, 1]), np.random.randn(N, d)], axis=1)\n",
    "    lambdaTrue = -1 + 2 * np.tan(np.random.randn(len(X[0])))\n",
    "    Y = 1 * ((X @ lambdaTrue + noise * np.random.randn(N)) > 0)\n",
    "    D = X, Y\n",
    "    return D"
   ],
   "metadata": {
    "collapsed": false,
    "ExecuteTime": {
     "end_time": "2023-11-01T23:20:37.961239Z",
     "start_time": "2023-11-01T23:20:37.960375Z"
    }
   },
   "id": "5bb4c3740fc6c4d9"
  },
  {
   "cell_type": "code",
   "execution_count": 3,
   "outputs": [],
   "source": [
    "def split(D, train_size):\n",
    "    x, y = D\n",
    "    x_trainning = []\n",
    "    x_testing = []\n",
    "    y_traning = []\n",
    "    y_testing = []\n",
    "    for i in range(0, train_size):\n",
    "        x_trainning.append(x[i])\n",
    "        y_traning.append(y[i])\n",
    "    for i in range(train_size, len(y)):\n",
    "        x_testing.append(x[i])\n",
    "        y_testing.append(y[i])\n",
    "    return x_trainning, x_testing, y_traning, y_testing"
   ],
   "metadata": {
    "collapsed": false,
    "ExecuteTime": {
     "end_time": "2023-11-01T23:20:37.977228Z",
     "start_time": "2023-11-01T23:20:37.961145Z"
    }
   },
   "id": "935e0ca9b66578df"
  },
  {
   "cell_type": "code",
   "execution_count": 4,
   "outputs": [],
   "source": [
    "def model(x, par):\n",
    "    z = x @ par\n",
    "    return 1 / (np.exp(-z) + 1)\n",
    "    # return np.power(1 / (1 + np.power(np.e, -z)), -1)"
   ],
   "metadata": {
    "collapsed": false,
    "ExecuteTime": {
     "end_time": "2023-11-01T23:20:37.977377Z",
     "start_time": "2023-11-01T23:20:37.964333Z"
    }
   },
   "id": "97c12095ad467be9"
  },
  {
   "cell_type": "code",
   "execution_count": 5,
   "outputs": [],
   "source": [
    "def dModel(x, par):\n",
    "    # f = np.power((1 + np.power(np.e, (np.dot(x, par)))), -1)\n",
    "    # f = np.power(1 + np.power(np.e, -np.dot(x, par)), -1)\n",
    "    # gradient = np.dot(f * (1 - f), x)\n",
    "    f = model(x, par)\n",
    "    return f * (1 - f) * x\n",
    "    # return gradient"
   ],
   "metadata": {
    "collapsed": false,
    "ExecuteTime": {
     "end_time": "2023-11-01T23:20:37.977414Z",
     "start_time": "2023-11-01T23:20:37.969189Z"
    }
   },
   "id": "23a58cbb414dd71b"
  },
  {
   "cell_type": "code",
   "execution_count": 6,
   "outputs": [],
   "source": [
    "def objective(par, data):\n",
    "    ell = 0\n",
    "    X, Y = data\n",
    "    for n in range(len(X)):\n",
    "        x, y = X[n], Y[n]\n",
    "        # f = np.power((np.dot(par,x)),np.e)\n",
    "        f = model(x, par)\n",
    "        s = -np.log(f) if y == 1 else -np.log(1 - f)\n",
    "        ell = ell + s\n",
    "    return ell"
   ],
   "metadata": {
    "collapsed": false,
    "ExecuteTime": {
     "end_time": "2023-11-01T23:20:37.977452Z",
     "start_time": "2023-11-01T23:20:37.971148Z"
    }
   },
   "id": "f1fe5e5e4ff2b356"
  },
  {
   "cell_type": "code",
   "execution_count": 7,
   "outputs": [],
   "source": [
    "def gradient(par, data):\n",
    "    grad = np.zeros(len(par))\n",
    "    X, Y = data\n",
    "    for n in range(len(X)):\n",
    "        x, y = X[n], Y[n]\n",
    "        f = model(X[n], par)\n",
    "\n",
    "        # s = - (y - (1-y)*f) / (y * f + (1 - y) * (1 - f))\n",
    "        s = -(y - f) / (y * f + (1 - y) * (1 - f))\n",
    "        grad = grad + s * dModel(x, par)\n",
    "\n",
    "    return grad"
   ],
   "metadata": {
    "collapsed": false,
    "ExecuteTime": {
     "end_time": "2023-11-01T23:20:37.977487Z",
     "start_time": "2023-11-01T23:20:37.974522Z"
    }
   },
   "id": "756f21094df92d37"
  },
  {
   "cell_type": "code",
   "execution_count": 8,
   "outputs": [],
   "source": [
    "def train(par0, eta, T, data):\n",
    "    par = par0\n",
    "    obj = []\n",
    "    for t in range(T):\n",
    "        ell = objective(par, data)\n",
    "        obj.append(ell)\n",
    "        grad = gradient(par, data)\n",
    "        par = par - eta * grad\n",
    "    return par, obj"
   ],
   "metadata": {
    "collapsed": false,
    "ExecuteTime": {
     "end_time": "2023-11-01T23:20:37.980610Z",
     "start_time": "2023-11-01T23:20:37.977192Z"
    }
   },
   "id": "6ecf597ae837d2a0"
  },
  {
   "cell_type": "code",
   "execution_count": 9,
   "outputs": [],
   "source": [
    "def ER(par, data):\n",
    "    ER = 0\n",
    "    X, Y = data\n",
    "    for n in range(0, len(X)):\n",
    "        x, y = X[n], Y[n]\n",
    "        y_Hat = 1 if model(x, par) > 0.5 else 0\n",
    "        s = 1 * (y != y_Hat)\n",
    "        ER = ER + s\n",
    "    return ER / len(X)"
   ],
   "metadata": {
    "collapsed": false,
    "ExecuteTime": {
     "end_time": "2023-11-01T23:20:37.986430Z",
     "start_time": "2023-11-01T23:20:37.981250Z"
    }
   },
   "id": "345e7a93576585bd"
  },
  {
   "cell_type": "code",
   "execution_count": 10,
   "outputs": [
    {
     "data": {
      "text/plain": "<Figure size 640x480 with 1 Axes>",
      "image/png": "[encoded data removed]"
     },
     "metadata": {},
     "output_type": "display_data"
    },
    {
     "name": "stdout",
     "output_type": "stream",
     "text": [
      "[0.2, 0.68, 0.52, 0.58, 0.66]\n"
     ]
    },
    {
     "data": {
      "text/plain": "<Figure size 640x480 with 1 Axes>",
      "image/png": "[encoded data removed]"
     },
     "metadata": {},
     "output_type": "display_data"
    }
   ],
   "source": [
    "lambda1 = np.transpose(np.full(11, 0.01))\n",
    "d = 10\n",
    "N = 100\n",
    "D = generateData(d, N)\n",
    "x_trainning, x_testing, y_traning, y_testing = split(D, 50)\n",
    "eta = 0.01\n",
    "epoch = []\n",
    "itterations = 100\n",
    "tryInit = [np.random.randn(len(x_trainning[0])) for m in range(5)]\n",
    "par, obj = train(lambda1, eta, 100, (x_trainning, y_traning))\n",
    "plt.plot(obj)\n",
    "plt.show()\n",
    "\n",
    "for init in tryInit:\n",
    "    par, values = train(init, eta, itterations, (x_trainning, y_traning))\n",
    "    epoch.append((par, values))\n",
    "\n",
    "ERs = []\n",
    "for i in range(0, len(epoch)):\n",
    "    ERs.append(ER(tryInit[i], (x_testing, y_testing)))\n",
    "print(ERs)\n",
    "counter = 0\n",
    "for par, values in epoch:\n",
    "    plt.plot(values, label=str(counter + 1) + \" - \" + str(ERs[counter]))\n",
    "    counter = counter + 1\n",
    "plt.legend()\n",
    "plt.show()"
   ],
   "metadata": {
    "collapsed": false,
    "ExecuteTime": {
     "end_time": "2023-11-01T23:20:38.278778Z",
     "start_time": "2023-11-01T23:20:37.998302Z"
    }
   },
   "id": "c8fd55c591b6b18e"
  },
  {
   "cell_type": "markdown",
   "source": [
    "Question 2"
   ],
   "metadata": {
    "collapsed": false,
    "ExecuteTime": {
     "end_time": "2023-10-30T17:56:43.538072Z",
     "start_time": "2023-10-30T17:56:42.528796Z"
    }
   },
   "id": "93f21c0f519752de"
  },
  {
   "cell_type": "code",
   "execution_count": 10,
   "outputs": [],
   "source": [],
   "metadata": {
    "collapsed": false,
    "ExecuteTime": {
     "end_time": "2023-11-01T23:20:38.294107Z",
     "start_time": "2023-11-01T23:20:38.278665Z"
    }
   },
   "id": "bef16f99ec4cf919"
  },
  {
   "cell_type": "code",
   "execution_count": 11,
   "outputs": [],
   "source": [
    "# def add1(array):\n",
    "#     return np.hstack((np.ones((len(array[0]),1)),np.array(array[0])))"
   ],
   "metadata": {
    "collapsed": false,
    "ExecuteTime": {
     "end_time": "2023-11-01T23:20:38.294374Z",
     "start_time": "2023-11-01T23:20:38.281634Z"
    }
   },
   "id": "5ad129396d692f9e"
  },
  {
   "cell_type": "code",
   "execution_count": null,
   "outputs": [],
   "source": [
    "import pandas as pd\n",
    "\n",
    "data = pd.read_csv(\"CarsDataSetForCW1.csv\", sep=\",\")\n",
    "Z = data[['mpg', 'cylinders', 'displacement', 'horsepower', 'weight', 'acceleration', 'year']].to_numpy()\n",
    "\n",
    "# Y = 1 * (Z[:, 0] >= np.mean(Z[:, 0]))\n",
    "# X, Y = Z[:, 1:], Y\n",
    "# D_train = (X[:len(data) // 2], Y[:len(data) // 2])\n",
    "# D_test = (X[len(data) // 2:], Y[len(data) // 2:])\n",
    "# D_train_normalised = ((D_train[0] - np.average(D_train[0])) / np.std(D_train[0]), D_train[1])\n",
    "# D_test_normalised = ((D_test[0] - np.average(D_train[0])) / np.std(D_train[0]), D_test[1])\n",
    "# x_testing = D_test_normalised[0]\n",
    "# y_testing = D_test_normalised[1]\n",
    "# x_trainning = D_train_normalised[0]\n",
    "# y_traning = D_train_normalised[1]\n",
    "Y = 1 * (Z[:, 0] >= np.mean(Z[:, 0]))\n",
    "X, Y = Z[:, 1:], Y\n",
    "N_train = len(data) // 2\n",
    "X_train, Y_train = X[:N_train], Y[:N_train]\n",
    "X_test, Y_test = X[N_train:], Y[N_train:]\n",
    "\n",
    "X_train_norm = (X_train - np.average(X_train, axis=0)) / np.std(X_train, axis=0)\n",
    "X_test_norm = (X_test - np.average(X_train, axis=0)) / np.std(X_train, axis=0)\n",
    "\n",
    "etas = []\n",
    "for m in range(0,5):\n",
    "    etas.append(np.exp(m - 10))\n",
    "lambda1 = 0.01 * np.random.randn(len(X[0]))\n",
    "ERs = []\n",
    "N = 100\n",
    "counter = 1\n",
    "for eta in etas:\n",
    "    par, obj = train(lambda1, eta, N, (X_train_norm, Y_train))\n",
    "    plt.plot(obj, label=str(etas.append(np.exp(counter - 10))) + \" - \" + str((ER(par, (X_test_norm, Y_test)))))\n",
    "plt.legend()\n",
    "plt.show()\n"
   ],
   "metadata": {
    "collapsed": false,
    "is_executing": true,
    "ExecuteTime": {
     "start_time": "2023-11-01T23:20:38.287138Z"
    }
   },
   "id": "a848b29314c69dfe"
  },
  {
   "cell_type": "markdown",
   "source": [
    "Question 3"
   ],
   "metadata": {
    "collapsed": false
   },
   "id": "a6cd0617bbd6c15f"
  },
  {
   "cell_type": "code",
   "execution_count": null,
   "outputs": [],
   "source": [
    "data = pd.read_csv(\"CarsDataSetForCW1.csv\", sep=\",\")\n",
    "Z = data[['mpg', 'cylinders', 'displacement', 'horsepower', 'weight', 'acceleration', 'year', 'origin']].to_numpy()\n",
    "origin = Z[:, -1]\n",
    "two_cols = []\n",
    "for i in origin:\n",
    "    if 1 == i:\n",
    "        two_cols.append([1, 0])\n",
    "    elif 2 == i:\n",
    "        two_cols.append([0, 1])\n",
    "    elif 3 == i:\n",
    "        two_cols.append([0, 0])\n",
    "two_cols = np.array(two_cols)\n",
    "Z = Z[:, :-1]\n",
    "Z = np.hstack((Z, two_cols))\n",
    "print(Z.shape)\n",
    "Y = 1 * (Z[:, 0] >= np.mean(Z[:, 0]))\n",
    "X, Y = Z[:, 1:], Y\n",
    "D_train = (X[:len(data) // 2], Y[:len(data) // 2])\n",
    "D_test = (X[len(data) // 2:], Y[len(data) // 2:])\n",
    "D_train_normalised = ((D_train[0] - np.average(D_train[0])) / np.std(D_train[0]), D_train[1])\n",
    "D_test_normalised = ((D_test[0] - np.average(D_test[0])) / np.std(D_test[0]), D_test[1])\n",
    "lambda1 = np.transpose(np.full(len(Z[0]) - 1, 0.01))\n",
    "d = 5\n",
    "ERs = []\n",
    "N = 100\n",
    "etas = []\n",
    "epochs = np.arange(0, N)\n",
    "for m in range(d):\n",
    "    etas.append(np.exp(m - 10))\n",
    "x_testing = D_test_normalised[0]\n",
    "y_testing = D_test_normalised[1]\n",
    "x_trainning = D_train_normalised[0]\n",
    "y_traning = D_train_normalised[1]\n",
    "for eta in etas:\n",
    "    par, obj = train(lambda1, eta, N, (x_trainning, y_traning))\n",
    "    ERs.append(ER(par, (x_testing, y_testing)))\n",
    "    plt.plot(epochs, obj)\n",
    "plt.show()\n",
    "print(ERs)"
   ],
   "metadata": {
    "collapsed": false,
    "is_executing": true
   },
   "id": "ae5d7787724ad26b"
  },
  {
   "cell_type": "code",
   "execution_count": null,
   "outputs": [],
   "source": [
    "# # origin_dummies = pd.get_dummies(data['name'])\n",
    "# np.random.seed(12345)\n",
    "# data = pd.read_csv(\"CarsDataSetForCW1.csv\", sep =',' )\n",
    "# \n",
    "# Z = data[['mpg', 'cylinders', 'displacement', 'horsepower', 'weight', 'acceleration', 'year']].to_numpy()\n",
    "# \n",
    "# Y = 1 * (Z[:, 0]>=np.mean(Z[:,0]))\n",
    "# X, Y = Z[:, 1:], Y\n",
    "# N_train = len(data)//2\n",
    "# X_train, Y_train = X[:N_train], Y[:N_train]\n",
    "# X_test, Y_test = X[N_train:], Y[N_train:]\n",
    "# \n",
    "# train_normalised = ((x_trainning[0] - np.average(x_trainning[0])) / np.std(x_trainning[0]), x_trainning[1])\n",
    "# test_normalised = ((x_testing[0] - np.average(x_testing[0])) / np.std(x_testing[0]), x_testing[1])\n",
    "# \n",
    "# lambda1 = 0.01*np.random.randn(len(X[0]))\n",
    "# vals=[]\n",
    "# iterations=100\n",
    "# etas=[]\n",
    "# ERs=[]\n",
    "# for i in range (1,6):\n",
    "#     etas.append(np.exp(i-10))\n",
    "# etas=np.array(etas)\n",
    "# for i in etas:\n",
    "#     par, obj = train(lambda1,i,iterations,(train_normalised,y_testing))"
   ],
   "metadata": {
    "collapsed": false,
    "is_executing": true
   },
   "id": "67799469bee58a0a"
  },
  {
   "cell_type": "markdown",
   "source": [
    "Question 4"
   ],
   "metadata": {
    "collapsed": false
   },
   "id": "73457c8b738b9c97"
  },
  {
   "cell_type": "code",
   "execution_count": null,
   "outputs": [],
   "source": [
    "\n",
    "# data = pd.read_csv('DigitsDataSetForCW1.csv', sep=\",\")\n",
    "# Z = data[['c1', 'c2', 'c3', 'c4', 'c5', 'c6', 'c7', 'c8', 'c9', 'c10',\n",
    "#           'c11', 'c12', 'c13', 'c14', 'c15', 'c16', 'c17', 'c18', 'c19', 'c20',\n",
    "#           'c21', 'c22', 'c23', 'c24', 'c25', 'c26', 'c27', 'c28', 'c29', 'c30',\n",
    "#           'c31', 'c32', 'c33', 'c34', 'c35', 'c36', 'c37', 'c38', 'c39', 'c40',\n",
    "#           'c41', 'c42', 'c43', 'c44', 'c45', 'c46', 'c47', 'c48', 'c49', 'c50',\n",
    "#           'c51', 'c52', 'c53', 'c54', 'c55', 'c56', 'c57', 'c58', 'c59', 'c60',\n",
    "#           'c61', 'c62', 'c63', 'c64', 'c65']].to_numpy()\n",
    "dataset = pd.read_csv(\"DigitsDataSetForCW1.csv\", sep=',').to_numpy()\n",
    "\n",
    "[X, Y] = dataset[:, :-1], dataset[:, -1]\n",
    "\n",
    "d01 = []\n",
    "d12 = []\n",
    "d23 = []\n",
    "d30 = []\n",
    "for i in range(len(dataset)):\n",
    "    if dataset[i, -1] == 0 or dataset[i, -1] == 1:\n",
    "        d01.append(dataset[i])\n",
    "    if dataset[i, -1] == 1 or dataset[i, -1] == 2:\n",
    "        d12.append(dataset[i])\n",
    "    if dataset[i, -1] == 2 or dataset[i, -1] == 3:\n",
    "        d23.append(dataset[i])\n",
    "    if dataset[i, -1] == 3 or dataset[i, -1] == 0:\n",
    "        d30.append(dataset[i])\n",
    "\n",
    "d01_training = (X[:len(d01) // 2], Y[:len(d01) // 2])\n",
    "d01_testing = (X[len(d01) // 2:], Y[len(d01) // 2:])\n",
    "d12_training = (X[:len(d12) // 2], Y[:len(d12) // 2])\n",
    "d12_testing = (X[len(d12) // 2:], Y[len(d12) // 2:])\n",
    "d23_training = (X[:len(d23) // 2], Y[:len(d23) // 2])\n",
    "d23_testing = (X[len(d23) // 2:], Y[len(d23) // 2:])\n",
    "d30_training = (X[:len(d30) // 2], Y[:len(d30) // 2])\n",
    "d30_testing = (X[len(d30) // 2:], Y[len(d30) // 2:])\n",
    "\n",
    "d01_training_normalised = ((d01_training[0] - np.average(d01_training[0])) / np.std(d01_training[0]), d01_training[1])\n",
    "d01_testing_normalised = ((d01_testing[0] - np.average(d01_testing[0])) / np.std(d01_testing[0]), d01_testing[1])\n",
    "d12_training_normalised = ((d12_training[0] - np.average(d12_training[0])) / np.std(d12_training[0]), d12_training[1])\n",
    "d12_testing_normalised = ((d12_testing[0] - np.average(d12_testing[0])) / np.std(d12_testing[0]), d12_testing[1])\n",
    "d23_training_normalised = ((d23_training[0] - np.average(d23_training[0])) / np.std(d23_training[0]), d23_training[1])\n",
    "d23_testing_normalised = ((d23_testing[0] - np.average(d23_testing[0])) / np.std(d23_testing[0]), d23_testing[1])\n",
    "d30_training_normalised = ((d30_training[0] - np.average(d30_training[0])) / np.std(d30_training[0]), d30_training[1])\n",
    "d30_testing_normalised = ((d30_testing[0] - np.average(d30_testing[0])) / np.std(d30_testing[0]), d30_testing[1])\n",
    "\n",
    "lambda1 = np.transpose(np.full(64, 0.01))\n",
    "d = 50\n",
    "N = 0.0001\n",
    "eta = 0.0001\n",
    "epochs = np.arange(0, N)\n",
    "itterations = 10\n",
    "\n",
    "lambda0 = np.random.normal(0, N, 64)\n",
    "\n",
    "d01_X_training_normalised = d01_training_normalised[0]\n",
    "d01_Y_training_normalised = d01_training_normalised[1]\n",
    "d12_X_training_normalised = d12_training_normalised[0]\n",
    "d12_Y_training_normalised = d12_training_normalised[1]\n",
    "d23_X_training_normalised = d23_training_normalised[0]\n",
    "d23_Y_training_normalised = d23_training_normalised[1]\n",
    "d30_X_training_normalised = d30_training_normalised[0]\n",
    "d30_Y_training_normalised = d30_training_normalised[1]\n",
    "\n",
    "# lambda_d01 = train(lambda0, eta, d, (d01_X_training_normalised, d01_Y_training_normalised))\n",
    "# lambda_d12 = train(lambda0, eta, d, (d12_X_training_normalised, d12_Y_training_normalised))\n",
    "# lambda_d23 = train(lambda0, eta, d, (d23_X_training_normalised, d23_Y_training_normalised))\n",
    "# lambda_d30 = train(lambda0, eta, d, (d30_X_training_normalised, d30_Y_training_normalised))\n",
    "\n",
    "d01_X_training_normalised = d01_training_normalised[0]\n",
    "d01_Y_training_normalised = d01_training_normalised[1]\n",
    "d01_X_testing_normalised = d01_testing_normalised[0]\n",
    "d01_Y_testing_normalised = d01_testing_normalised[1]\n",
    "d12_X_training_normalised = d12_training_normalised[0]\n",
    "d12_Y_training_normalised = d12_training_normalised[1]\n",
    "d12_X_testing_normalised = d12_testing_normalised[0]\n",
    "d12_Y_testing_normalised = d12_testing_normalised[1]\n",
    "d23_X_training_normalised = d23_training_normalised[0]\n",
    "d23_Y_training_normalised = d23_training_normalised[1]\n",
    "d23_X_testing_normalised = d23_testing_normalised[0]\n",
    "d23_Y_testing_normalised = d23_testing_normalised[1]\n",
    "d30_X_training_normalised = d30_training_normalised[0]\n",
    "d30_Y_training_normalised = d30_training_normalised[1]\n",
    "d30_X_testing_normalised = d30_testing_normalised[0]\n",
    "d30_Y_testing_normalised = d30_testing_normalised[1]\n",
    "\n",
    "lambda0 = 0.0001 * np.random.randn(64)\n",
    "d = 5\n",
    "ERs = []\n",
    "objs = []\n",
    "N = 50\n",
    "eta = 0.0001\n",
    "\n",
    "lambda0 = np.random.normal(0, eta, d01_X_training_normalised.shape[1])\n",
    "for i in range(0, N):\n",
    "    par, obj = train(lambda0, eta, N, (d01_X_training_normalised, d01_Y_training_normalised))\n",
    "    objs.append(obj)\n",
    "    ERs.append(ER(par, (d01_X_testing_normalised, d01_Y_testing_normalised)))\n",
    "    lambda0 = par\n",
    "plt.plot(range(N), ERs)\n",
    "ERs = []\n",
    "objs = []\n",
    "lambda0 = 0.0001 * np.random.randn(64)\n",
    "lambda0 = 0.0001 * np.random.randn(64)\n",
    "for i in range(0, N):\n",
    "    par, obj = train(lambda0, eta, N, (d12_X_training_normalised, d12_Y_training_normalised))\n",
    "    objs.append(obj)\n",
    "    ERs.append(ER(par, (d12_X_testing_normalised, d12_Y_testing_normalised)))\n",
    "    lambda0 = par\n",
    "plt.plot(range(N), ERs)\n",
    "ERs = []\n",
    "objs = []\n",
    "lambda0 = 0.0001 * np.random.randn(64)\n",
    "lambda0 = np.random.normal(0, eta, d23_X_training_normalised.shape[1])\n",
    "for i in range(0, N):\n",
    "    par, obj = train(lambda0, eta, N, (d23_X_training_normalised, d23_Y_training_normalised))\n",
    "    objs.append(obj)\n",
    "    ERs.append(ER(par, (d23_X_testing_normalised, d23_Y_testing_normalised)))\n",
    "    lambda0 = par\n",
    "plt.plot(range(N), ERs)\n",
    "ERs = []\n",
    "objs = []\n",
    "lambda0 = 0.0001 * np.random.randn(64)\n",
    "lambda0 = np.random.normal(0, eta, d30_X_training_normalised.shape[1])\n",
    "for i in range(0, N):\n",
    "    par, obj = train(lambda0, eta, N, (d30_X_training_normalised, d30_Y_training_normalised))\n",
    "    objs.append(obj)\n",
    "    ERs.append(ER(par, (d30_X_testing_normalised, d30_Y_testing_normalised)))\n",
    "    lambda0 = par\n",
    "plt.plot(range(N), ERs)\n",
    "ax = plt.gca()\n",
    "\n",
    "plt.show()\n",
    "print(ERs)\n",
    "\n",
    "# \n",
    "# \n",
    "# ERs = []\n",
    "# tryInit = [np.random.randn(64) for m in range(50)]\n",
    "# for i in tryInit:\n",
    "#     temp = []\n",
    "#     temp.append(ER(i, (d01_X_testing_normalised, d01_Y_testing_normalised)))\n",
    "# ERs.append(temp)\n",
    "# tryInit = [np.random.randn(64) for m in range(50)]\n",
    "# for i in tryInit:\n",
    "#     temp = []\n",
    "#     temp.append(ER(i, (d12_X_testing_normalised, d12_Y_testing_normalised)))\n",
    "# ERs.append(temp)\n",
    "# tryInit = [np.random.randn(64) for m in range(50)]\n",
    "# for i in tryInit:\n",
    "#     temp = []\n",
    "#     temp.append(ER(i, (d23_X_testing_normalised, d23_Y_testing_normalised)))\n",
    "# ERs.append(temp)\n",
    "# tryInit = [np.random.randn(64) for m in range(50)]\n",
    "# for i in tryInit:\n",
    "#     temp = []\n",
    "#     temp.append(ER(i, (d23_X_testing_normalised, d23_Y_testing_normalised)))\n",
    "# ERs.append(temp)\n",
    "# print(ERs)\n",
    "# \n",
    "# plt.plot(epochs,lambda_d01[1])\n",
    "# plt.plot(epochs,lambda_d12[1])\n",
    "# plt.plot(epochs,lambda_d23[1])\n",
    "# plt.plot(epochs,lambda_d30[1])\n",
    "# for k in range(0, 10):\n",
    "#     image_matrix = np.reshape(X[k], (8, 8))\n",
    "#     plt.matshow(image_matrix)"
   ],
   "metadata": {
    "collapsed": false,
    "is_executing": true
   },
   "id": "fffa7454cc5b789f"
  }
 ],
 "metadata": {
  "kernelspec": {
   "display_name": "Python 3",
   "language": "python",
   "name": "python3"
  },
  "language_info": {
   "codemirror_mode": {
    "name": "ipython",
    "version": 2
   },
   "file_extension": ".py",
   "mimetype": "text/x-python",
   "name": "python",
   "nbconvert_exporter": "python",
   "pygments_lexer": "ipython2",
   "version": "2.7.6"
  }
 },
 "nbformat": 4,
 "nbformat_minor": 5
}
